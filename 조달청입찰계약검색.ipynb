{
  "nbformat": 4,
  "nbformat_minor": 0,
  "metadata": {
    "colab": {
      "provenance": [],
      "mount_file_id": "1eZv4VomNi1sx31AFbC-9BFa0YQWjg3Nv",
      "authorship_tag": "ABX9TyOioxrEh5NW2Bx2dIUXEQni",
      "include_colab_link": true
    },
    "kernelspec": {
      "name": "python3",
      "display_name": "Python 3"
    },
    "language_info": {
      "name": "python"
    }
  },
  "cells": [
    {
      "cell_type": "markdown",
      "metadata": {
        "id": "view-in-github",
        "colab_type": "text"
      },
      "source": [
        "<a href=\"https://colab.research.google.com/github/kacem0/physon/blob/main/%EC%A1%B0%EB%8B%AC%EC%B2%AD%EC%9E%85%EC%B0%B0%EA%B3%84%EC%95%BD%EA%B2%80%EC%83%89.ipynb\" target=\"_parent\"><img src=\"https://colab.research.google.com/assets/colab-badge.svg\" alt=\"Open In Colab\"/></a>"
      ]
    },
    {
      "cell_type": "code",
      "execution_count": null,
      "metadata": {
        "id": "S3OsDsUK1erx"
      },
      "outputs": [],
      "source": []
    }
  ]
}